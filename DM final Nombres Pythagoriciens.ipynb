{
 "cells": [
  {
   "cell_type": "code",
   "execution_count": 5,
   "metadata": {},
   "outputs": [
    {
     "name": "stdout",
     "output_type": "stream",
     "text": [
      "Solution : (3,4,4)\n",
      "Solution : (6,8,8)\n",
      "Solution : (5,12,12)\n",
      "Solution : (9,12,12)\n",
      "Solution : (8,15,15)\n",
      "Solution : (12,16,16)\n",
      "Solution : (15,20,20)\n",
      "Solution : (7,24,24)\n",
      "Solution : (10,24,24)\n",
      "Solution : (20,21,21)\n",
      "Solution : (18,24,24)\n",
      "Solution : (16,30,30)\n",
      "Solution : (21,28,28)\n",
      "Solution : (12,35,35)\n",
      "Solution : (15,36,36)\n",
      "Solution : (24,32,32)\n",
      "Solution : (9,40,40)\n",
      "Solution : (27,36,36)\n",
      "Solution : (30,40,40)\n",
      "Solution : (14,48,48)\n",
      "Solution : (24,45,45)\n",
      "Solution : (20,48,48)\n",
      "Solution : (28,45,45)\n",
      "Solution : (33,44,44)\n",
      "Solution : (40,42,42)\n",
      "Solution : (36,48,48)\n",
      "Solution : (11,60,60)\n",
      "Solution : (39,52,52)\n",
      "Solution : (33,56,56)\n",
      "Solution : (25,60,60)\n",
      "Solution : (16,63,63)\n",
      "Solution : (32,60,60)\n",
      "Solution : (42,56,56)\n",
      "Solution : (48,55,55)\n",
      "Solution : (24,70,70)\n",
      "Solution : (45,60,60)\n",
      "Solution : (21,72,72)\n",
      "Solution : (30,72,72)\n",
      "Solution : (48,64,64)\n",
      "Solution : (18,80,80)\n",
      "Solution : (51,68,68)\n",
      "Solution : (40,75,75)\n",
      "Solution : (36,77,77)\n",
      "Solution : (13,84,84)\n",
      "Solution : (60,63,63)\n",
      "Solution : (39,80,80)\n",
      "Solution : (54,72,72)\n",
      "Solution : (35,84,84)\n",
      "Solution : (57,76,76)\n",
      "Solution : (65,72,72)\n",
      "On a trouve 50 solutions\n"
     ]
    }
   ],
   "source": [
    "solutions = 0\n",
    "\n",
    "for z in range(1,100):\n",
    "    for y in range(1,z):\n",
    "        for x in range(1,y):\n",
    "            if x*x + y*y == z*z:\n",
    "                print(\"Solution : \" + \"(\" + str(x) + \",\" + str(y) + \",\" + str(y) + \")\")\n",
    "                \n",
    "                \n",
    "                solutions += 1\n",
    "  \n",
    "print(\"On a trouve \" + str(solutions) + \" solutions\")"
   ]
  },
  {
   "cell_type": "code",
   "execution_count": null,
   "metadata": {
    "collapsed": true
   },
   "outputs": [],
   "source": []
  }
 ],
 "metadata": {
  "kernelspec": {
   "display_name": "Python 3",
   "language": "python",
   "name": "python3"
  }
 },
 "nbformat": 4,
 "nbformat_minor": 2
}
