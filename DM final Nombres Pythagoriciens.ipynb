{
 "cells": [
  {
   "cell_type": "code",
   "execution_count": null,
   "metadata": {},
   "outputs": [],
   "source": [
    "solutions = 0\n",
    "\n",
    "for z in range(1,100):\n",
    "    for y in range(1,z):\n",
    "        for x in range(1,y):\n",
    "            if x*x + y*y == z*z:\n",
    "                print \"Solution : \" + \"(\" + str(x) + \",\" + str(y) + \",\" + str(y) + \")\"\n",
    "                \n",
    "                solutions += 1\n",
    "  \n",
    "print \"On a trouve \" + str(solutions) + \" solutions\""
   ]
  },
  {
   "cell_type": "code",
   "execution_count": null,
   "metadata": {
    "collapsed": true
   },
   "outputs": [],
   "source": []
  }
 ],
 "metadata": {
  "kernelspec": {
   "display_name": "Python 3",
   "language": "python",
   "name": "python3"
  },
  "language_info": {
   "codemirror_mode": {
    "name": "ipython",
    "version": 3
   },
   "file_extension": ".py",
   "mimetype": "text/x-python",
   "name": "python",
   "nbconvert_exporter": "python",
   "pygments_lexer": "ipython3",
   "version": "3.6.3"
  }
 },
 "nbformat": 4,
 "nbformat_minor": 2
}
